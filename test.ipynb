{
 "cells": [
  {
   "cell_type": "code",
   "execution_count": 1,
   "metadata": {},
   "outputs": [
    {
     "name": "stdout",
     "output_type": "stream",
     "text": [
      "{'nums': 2, 'cityid': '101190401', 'city': '苏州', 'update_time': '2025-02-25 20:39:45', 'data': [{'date': '2025-02-25', 'wea': '霾', 'wea_img': 'wu', 'tem_day': '8', 'tem_night': '4', 'win': '西南风', 'win_speed': '3-4级转<3级'}, {'date': '2025-02-26', 'wea': '阴', 'wea_img': 'yin', 'tem_day': '15', 'tem_night': '6', 'win': '东南风', 'win_speed': '<3级'}, {'date': '2025-02-27', 'wea': '多云', 'wea_img': 'yun', 'tem_day': '20', 'tem_night': '8', 'win': '南风', 'win_speed': '<3级'}, {'date': '2025-02-28', 'wea': '多云', 'wea_img': 'yun', 'tem_day': '24', 'tem_night': '12', 'win': '东南风', 'win_speed': '<3级'}, {'date': '2025-03-01', 'wea': '多云', 'wea_img': 'yun', 'tem_day': '27', 'tem_night': '16', 'win': '南风', 'win_speed': '<3级'}, {'date': '2025-03-02', 'wea': '小雨', 'wea_img': 'yu', 'tem_day': '28', 'tem_night': '8', 'win': '南风', 'win_speed': '<3级转3-4级'}, {'date': '2025-03-03', 'wea': '中雨转小雨', 'wea_img': 'yu', 'tem_day': '10', 'tem_night': '5', 'win': '北风', 'win_speed': '3-4级转<3级'}]}\n"
     ]
    }
   ],
   "source": [
    "import requests\n",
    "\n",
    "# 设置API密钥\n",
    "api_id = \"27435552\"\n",
    "app_secret = \"Itldd5UB\"\n",
    "city = \"苏州\"\n",
    "\n",
    "# 构造API请求URL\n",
    "url = f\"https://v1.yiketianqi.com/free/week?unescape=1&appid={api_id}&appsecret={app_secret}&city={city}\"\n",
    "\n",
    "# 发送请求并获取数据\n",
    "response = requests.get(url)\n",
    "data = response.json()\n",
    "\n",
    "# 打印结果\n",
    "print(data)"
   ]
  }
 ],
 "metadata": {
  "kernelspec": {
   "display_name": "Python 3",
   "language": "python",
   "name": "python3"
  },
  "language_info": {
   "codemirror_mode": {
    "name": "ipython",
    "version": 3
   },
   "file_extension": ".py",
   "mimetype": "text/x-python",
   "name": "python",
   "nbconvert_exporter": "python",
   "pygments_lexer": "ipython3",
   "version": "3.13.2"
  }
 },
 "nbformat": 4,
 "nbformat_minor": 2
}
